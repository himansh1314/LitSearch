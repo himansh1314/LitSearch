{
 "cells": [
  {
   "cell_type": "code",
   "execution_count": 36,
   "metadata": {},
   "outputs": [],
   "source": [
    "# LitSearch RAG Baseline using LangChain with Full Corpus\n",
    "\n",
    "import pandas as pd\n",
    "import json\n",
    "import numpy as np\n",
    "import os\n",
    "import matplotlib.pyplot as plt\n",
    "from tqdm import tqdm  # Using regular tqdm instead of tqdm.notebook\n",
    "from typing import List, Dict, Any, Union, Optional\n",
    "\n",
    "# LangChain imports\n",
    "from langchain.schema import Document\n",
    "from langchain.vectorstores import FAISS\n",
    "from langchain.embeddings import HuggingFaceEmbeddings\n",
    "from langchain.retrievers import BM25Retriever\n",
    "from langchain.retrievers.ensemble import EnsembleRetriever\n",
    "from langchain.text_splitter import RecursiveCharacterTextSplitter\n",
    "from langchain.chains import RetrievalQA\n",
    "from langchain.prompts import PromptTemplate\n",
    "from langchain.chat_models import ChatOpenAI\n",
    "from langchain.callbacks import get_openai_callback\n",
    "\n",
    "# Metrics\n",
    "from rouge_score import rouge_scorer\n",
    "\n",
    "# Import for datasets\n",
    "from datasets import load_dataset"
   ]
  },
  {
   "cell_type": "code",
   "execution_count": null,
   "metadata": {},
   "outputs": [],
   "source": [
    "# Set your OpenAI API key\n",
    "import os\n",
    "os.environ[\"OPENAI_API_KEY\"] = \"Replace with your API key\"  # Replace with your API key\n",
    "# You can also set it as: os.environ[\"OPENAI_API_KEY\"] = input(\"Enter your OpenAI API key: \")\n",
    "\n",
    "# Initialize ROUGE scorer\n",
    "rouge_scorer_instance = rouge_scorer.RougeScorer(['rouge1', 'rouge2', 'rougeL'], use_stemmer=True)"
   ]
  },
  {
   "cell_type": "code",
   "execution_count": 38,
   "metadata": {},
   "outputs": [],
   "source": [
    "## 1. Loading the Datasets\n",
    "\n",
    "# Function to load user dataset (handles both JSON and CSV)\n",
    "def load_user_dataset(file_path: str, num_samples: Optional[int] = None):\n",
    "    \"\"\"\n",
    "    Load user dataset from JSON or CSV file\n",
    "    \n",
    "    Args:\n",
    "        file_path: Path to dataset file (JSON or CSV)\n",
    "        num_samples: Number of samples to use (None = all)\n",
    "        \n",
    "    Returns:\n",
    "        List of dictionaries containing the dataset\n",
    "    \"\"\"\n",
    "    if file_path.endswith('.json'):\n",
    "        with open(file_path, 'r') as f:\n",
    "            data = json.load(f)\n",
    "            dataset = data.get('data', data)  # Handle both {'data': [...]} and direct list format\n",
    "    elif file_path.endswith('.csv'):\n",
    "        df = pd.read_csv(file_path)\n",
    "        dataset = df.to_dict(orient='records')\n",
    "    else:\n",
    "        raise ValueError(\"Unsupported file format. Use JSON or CSV.\")\n",
    "    \n",
    "    # Sample if requested\n",
    "    if num_samples and num_samples < len(dataset):\n",
    "        import random\n",
    "        random.seed(42)  # For reproducibility\n",
    "        dataset = random.sample(dataset, num_samples)\n",
    "    \n",
    "    print(f\"Loaded {len(dataset)} samples from {file_path}\")\n",
    "    return dataset\n"
   ]
  },
  {
   "cell_type": "code",
   "execution_count": 39,
   "metadata": {},
   "outputs": [
    {
     "name": "stdout",
     "output_type": "stream",
     "text": [
      "Loaded 50 samples from /Users/himansh/Desktop/ANLP/litsearch/litsearch_rag_dataset_fullpaper_100.json\n",
      "Loading LitSearch corpus dataset...\n",
      "Loaded 64183 papers from LitSearch corpus\n",
      "Corpus data fields: ['corpusid', 'title', 'abstract', 'citations', 'full_paper']\n",
      "Using 'corpusid' as paper ID field\n"
     ]
    },
    {
     "name": "stderr",
     "output_type": "stream",
     "text": [
      "100%|██████████| 64183/64183 [00:11<00:00, 5768.26it/s]"
     ]
    },
    {
     "name": "stdout",
     "output_type": "stream",
     "text": [
      "Created corpus dictionary with 64183 papers\n",
      "\n",
      "Sample from user dataset:\n",
      "{'original_query': 'Could you suggest research on detecting common errors like additions and omissions in machine translation?', 'paper_title': 'Detecting Over-and Undertranslations with Contrastive Conditioning', 'paper_abstract': 'Omission and addition of content is a typical issue in neural machine translation. We propose a method for detecting such phenomena with off-the-shelf translation models. Using contrastive conditioning, we compare the likelihood of a full sequence under a translation model to the likelihood of its parts, given the corresponding source or target sequence. This allows to pinpoint superfluous words in the translation and untranslated words in the source even in the absence of a reference translation. The accuracy of our method is comparable to a supervised method that requires a custom quality estimation model.', 'used_full_text': True, 'paper_id': 247223093, 'conceptual_question': '\"How does the method of contrastive conditioning help in detecting over- and undertranslations in neural machine translation, and how does it compare to supervised approaches?\",', 'ground_truth_answer': '\"The method of contrastive conditioning proposed in the paper \\'Detecting Over-and Undertranslations with Contrastive Conditioning\\' enables the detection of addition (overtranslation) and omission (undertranslation) errors without the need for reference translations. This method operates by comparing the likelihood of a complete sentence under a translation model with the likelihood of its parts. The technique leverages off-the-shelf neural machine translation (NMT) models to identify untranslated words in the source and superfluous words in the translation. By constructing partial source and target sequences (using dependency parse trees to define potential error spans), the system checks whether omitting specific parts from the sentence leads to a higher probability score than the full sequence, indicating a possible omission. Conversely, addition errors are detected by applying a similar procedure in reverse translation direction.\\\\n\\\\nIn evaluation, the contrastive conditioning method successfully detected omission errors with higher accuracy than a supervised quality estimation (QE) baseline, which relied on synthetic data for training. While the accuracy in detecting additions was lower, the method still offered a useful comparison to human-annotated and synthetically-generated datasets. Unlike supervised methods that require custom models trained on large corpora of labeled data, contrastive conditioning can be applied directly using existing NMT architectures, making it a valuable tool where post-editing by human translators is involved. However, the method\\'s detection precision is notably higher for omissions than for additions due to syntactical variances often leading to false positives in addition detection. Despite these challenges, the method holds promise for effective implementation in practical machine translation tasks.\" } ```'}\n",
      "\n",
      "Sample from corpus:\n",
      "Paper ID: 252715594\n",
      "Title: PHENAKI: VARIABLE LENGTH VIDEO GENERATION FROM OPEN DOMAIN TEXTUAL DESCRIPTIONS\n",
      "Abstract: We present Phenaki, a model capable of realistic video synthesis, given a sequence of textual prompts. Generating videos from text is particularly challenging due to the computational cost, limited qu...\n",
      "Full text length: 65298 characters\n",
      "Full text sample: PHENAKI: VARIABLE LENGTH VIDEO GENERATION FROM OPEN DOMAIN TEXTUAL DESCRIPTIONS\n",
      "\n",
      "\n",
      "Ruben Villegas \n",
      "University of Michigan\n",
      "University College London\n",
      "\n",
      "\n",
      "Google Brain \n",
      "University of Michigan\n",
      "University Col...\n"
     ]
    },
    {
     "name": "stderr",
     "output_type": "stream",
     "text": [
      "\n"
     ]
    }
   ],
   "source": [
    "# Function to load LitSearch corpus from Hugging Face\n",
    "def load_litsearch_corpus():\n",
    "    \"\"\"\n",
    "    Load the LitSearch corpus from Hugging Face\n",
    "    \n",
    "    Returns:\n",
    "        Dictionary mapping paper IDs to paper content\n",
    "    \"\"\"\n",
    "    print(\"Loading LitSearch corpus dataset...\")\n",
    "    try:\n",
    "        # Load the corpus\n",
    "        corpus_data = load_dataset(\"princeton-nlp/LitSearch\", \"corpus_clean\", split=\"full\")\n",
    "        print(f\"Loaded {len(corpus_data)} papers from LitSearch corpus\")\n",
    "        \n",
    "        # Print a sample to understand the structure\n",
    "        if len(corpus_data) > 0:\n",
    "            print(\"Corpus data fields:\", list(corpus_data[0].keys()))\n",
    "        \n",
    "        # Create a dictionary mapping paper IDs to paper content\n",
    "        corpus_dict = {}\n",
    "        paper_id_field = None\n",
    "        \n",
    "        # Determine the field containing paper IDs\n",
    "        if len(corpus_data) > 0:\n",
    "            sample = corpus_data[0]\n",
    "            if \"paper_id\" in sample:\n",
    "                paper_id_field = \"paper_id\"\n",
    "            elif \"doc_id\" in sample:\n",
    "                paper_id_field = \"doc_id\"\n",
    "            elif \"corpusid\" in sample:\n",
    "                paper_id_field = \"corpusid\"\n",
    "            else:\n",
    "                # Find a field that looks like an ID\n",
    "                for key in sample.keys():\n",
    "                    if \"id\" in key.lower():\n",
    "                        paper_id_field = key\n",
    "                        break\n",
    "        \n",
    "        if not paper_id_field:\n",
    "            raise ValueError(\"Could not determine paper ID field in corpus dataset\")\n",
    "        \n",
    "        print(f\"Using '{paper_id_field}' as paper ID field\")\n",
    "        \n",
    "        # Create the mapping\n",
    "        for item in tqdm(corpus_data):\n",
    "            paper_id = item.get(paper_id_field)\n",
    "            if paper_id:\n",
    "                corpus_dict[paper_id] = {\n",
    "                    'title': item.get('title', ''),\n",
    "                    'abstract': item.get('abstract', ''),\n",
    "                    'full_text': item.get('full_paper', '')  # Get full paper text if available\n",
    "                }\n",
    "        \n",
    "        print(f\"Created corpus dictionary with {len(corpus_dict)} papers\")\n",
    "        return corpus_dict, paper_id_field\n",
    "    \n",
    "    except Exception as e:\n",
    "        print(f\"Error loading LitSearch corpus: {e}\")\n",
    "        print(\"Falling back to using only title and abstract from user dataset\")\n",
    "        return {}, None\n",
    "\n",
    "# Load your dataset\n",
    "user_dataset_path = \"/Users/himansh/Desktop/ANLP/litsearch/litsearch_rag_dataset_fullpaper_100.json\"  # Replace with your path\n",
    "user_dataset = load_user_dataset(user_dataset_path, num_samples=50)  # Adjust sample size as needed\n",
    "\n",
    "# Load LitSearch corpus\n",
    "corpus_dict, paper_id_field = load_litsearch_corpus()\n",
    "\n",
    "# Display a sample from user dataset\n",
    "print(\"\\nSample from user dataset:\")\n",
    "print(user_dataset[0])\n",
    "\n",
    "# Display a sample from corpus (if available)\n",
    "if corpus_dict:\n",
    "    print(\"\\nSample from corpus:\")\n",
    "    sample_id = next(iter(corpus_dict))\n",
    "    print(f\"Paper ID: {sample_id}\")\n",
    "    print(f\"Title: {corpus_dict[sample_id]['title']}\")\n",
    "    abstract = corpus_dict[sample_id]['abstract']\n",
    "    print(f\"Abstract: {abstract[:200]}...\")  # Show just the beginning\n",
    "    full_text = corpus_dict[sample_id].get('full_text', '')\n",
    "    if full_text:\n",
    "        print(f\"Full text length: {len(full_text)} characters\")\n",
    "        print(f\"Full text sample: {full_text[:200]}...\")  # Show just the beginning\n"
   ]
  },
  {
   "cell_type": "code",
   "execution_count": 40,
   "metadata": {},
   "outputs": [
    {
     "name": "stdout",
     "output_type": "stream",
     "text": [
      "Created 50 LangChain documents\n",
      "  - 50 documents include full text\n",
      "  - 0 documents include abstract only\n"
     ]
    }
   ],
   "source": [
    "## 2. Preparing Documents for LangChain\n",
    "\n",
    "def prepare_documents(user_dataset, corpus_dict):\n",
    "    \"\"\"\n",
    "    Convert dataset to LangChain documents format using corpus when available\n",
    "    \"\"\"\n",
    "    langchain_docs = []\n",
    "    \n",
    "    # Create a set of all paper IDs in the user dataset\n",
    "    paper_ids_set = set()\n",
    "    for item in user_dataset:\n",
    "        paper_id = item.get('paper_id')\n",
    "        if paper_id:\n",
    "            paper_ids_set.add(paper_id)\n",
    "    \n",
    "    # Track how many papers have full text\n",
    "    papers_with_full_text = 0\n",
    "    papers_with_abstract_only = 0\n",
    "    \n",
    "    # Create documents for each paper\n",
    "    for paper_id in paper_ids_set:\n",
    "        # Look for the paper in the corpus\n",
    "        if paper_id in corpus_dict and corpus_dict[paper_id]['full_text']:\n",
    "            # Use full text from corpus\n",
    "            paper = corpus_dict[paper_id]\n",
    "            content = f\"Title: {paper['title']}\\n\\nAbstract: {paper['abstract']}\\n\\nFull Text: {paper['full_text']}\"\n",
    "            papers_with_full_text += 1\n",
    "        else:\n",
    "            # Fallback to using title and abstract from the user dataset\n",
    "            # Find this paper in the user dataset\n",
    "            paper_data = next((item for item in user_dataset if item.get('paper_id') == paper_id), None)\n",
    "            if paper_data:\n",
    "                title = paper_data.get('paper_title', '')\n",
    "                abstract = paper_data.get('paper_abstract', '')\n",
    "                content = f\"Title: {title}\\n\\nAbstract: {abstract}\"\n",
    "                papers_with_abstract_only += 1\n",
    "            else:\n",
    "                # Skip if we can't find any information about this paper\n",
    "                continue\n",
    "        \n",
    "        # Create LangChain document\n",
    "        langchain_docs.append(\n",
    "            Document(\n",
    "                page_content=content,\n",
    "                metadata={\n",
    "                    'paper_id': paper_id,\n",
    "                    'source': 'LitSearch'\n",
    "                }\n",
    "            )\n",
    "        )\n",
    "    \n",
    "    print(f\"Created {len(langchain_docs)} LangChain documents\")\n",
    "    print(f\"  - {papers_with_full_text} documents include full text\")\n",
    "    print(f\"  - {papers_with_abstract_only} documents include abstract only\")\n",
    "    return langchain_docs\n",
    "\n",
    "# Create LangChain documents\n",
    "documents = prepare_documents(user_dataset, corpus_dict)\n",
    "\n",
    "# Create a lookup dictionary for ground truth papers\n",
    "ground_truth_lookup = {}\n",
    "for item in user_dataset:\n",
    "    question = item.get('conceptual_question')\n",
    "    if question:\n",
    "        ground_truth_lookup[question] = {\n",
    "            'paper_id': item.get('paper_id'),\n",
    "            'answer': item.get('ground_truth_answer')\n",
    "        }\n"
   ]
  },
  {
   "cell_type": "code",
   "execution_count": 41,
   "metadata": {},
   "outputs": [
    {
     "name": "stdout",
     "output_type": "stream",
     "text": [
      "Created 4619 chunks from 50 documents\n"
     ]
    }
   ],
   "source": [
    "## 3. Create Chunker for Longer Documents\n",
    "\n",
    "# Text splitter for longer documents\n",
    "text_splitter = RecursiveCharacterTextSplitter(\n",
    "    chunk_size=1000,\n",
    "    chunk_overlap=200,\n",
    "    length_function=len,\n",
    "    is_separator_regex=False,\n",
    ")\n",
    "\n",
    "# Split documents if they're long\n",
    "split_docs = text_splitter.split_documents(documents)\n",
    "print(f\"Created {len(split_docs)} chunks from {len(documents)} documents\")"
   ]
  },
  {
   "cell_type": "code",
   "execution_count": null,
   "metadata": {},
   "outputs": [],
   "source": [
    "## 4. Create Retrievers\n",
    "\n",
    "# 1. BM25 Retriever\n",
    "bm25_retriever = BM25Retriever.from_documents(split_docs)\n",
    "bm25_retriever.k = 20  # Top-k documents to retrieve\n",
    "\n",
    "# 2. Dense Retriever with FAISS\n",
    "embeddings = HuggingFaceEmbeddings(model_name=\"sentence-transformers/all-mpnet-base-v2\")\n",
    "vectorstore = FAISS.from_documents(split_docs, embeddings)\n",
    "dense_retriever = vectorstore.as_retriever(search_kwargs={\"k\": 20})\n",
    "\n",
    "# 3. Ensemble Retriever (combines BM25 and Dense)\n",
    "ensemble_retriever = EnsembleRetriever(\n",
    "    retrievers=[bm25_retriever, dense_retriever],\n",
    "    weights=[0.5, 0.5]\n",
    ")"
   ]
  },
  {
   "cell_type": "code",
   "execution_count": 10,
   "metadata": {},
   "outputs": [],
   "source": [
    "## 5. Create RAG Chains with LangChain\n",
    "\n",
    "# Define a more specific prompt for scientific questions\n",
    "prompt_template = \"\"\"You are a helpful scientific assistant. Use the following pieces of context to answer the question at the end. If you don't know the answer, just say that you don't know, don't try to make up an answer.\n",
    "\n",
    "Context:\n",
    "{context}\n",
    "\n",
    "Question: {question}\n",
    "Answer:\"\"\"\n",
    "\n",
    "PROMPT = PromptTemplate(\n",
    "    template=prompt_template,\n",
    "    input_variables=[\"context\", \"question\"]\n",
    ")\n"
   ]
  },
  {
   "cell_type": "code",
   "execution_count": 11,
   "metadata": {},
   "outputs": [
    {
     "name": "stderr",
     "output_type": "stream",
     "text": [
      "/var/folders/6z/nz9cvz6s3vg6yvj80zkc7hmm0000gn/T/ipykernel_1837/3920281089.py:2: LangChainDeprecationWarning: The class `ChatOpenAI` was deprecated in LangChain 0.0.10 and will be removed in 1.0. An updated version of the class exists in the :class:`~langchain-openai package and should be used instead. To use it run `pip install -U :class:`~langchain-openai` and import as `from :class:`~langchain_openai import ChatOpenAI``.\n",
      "  llm = ChatOpenAI(temperature=0, model_name=\"gpt-4o\", base_url=\"https://cmu.litellm.ai\")\n"
     ]
    }
   ],
   "source": [
    "# Create LLM\n",
    "llm = ChatOpenAI(temperature=0, model_name=\"gpt-4o\", base_url=\"https://cmu.litellm.ai\")\n",
    "\n",
    "# Create RetrievalQA chains for each retriever\n",
    "def create_qa_chain(retriever, llm=llm, prompt=PROMPT):\n",
    "    return RetrievalQA.from_chain_type(\n",
    "        llm=llm,\n",
    "        chain_type=\"stuff\",\n",
    "        retriever=retriever,\n",
    "        return_source_documents=True,\n",
    "        chain_type_kwargs={\"prompt\": prompt}\n",
    "    )\n",
    "\n",
    "# Create the chains\n",
    "bm25_chain = create_qa_chain(bm25_retriever)\n",
    "dense_chain = create_qa_chain(dense_retriever)\n",
    "ensemble_chain = create_qa_chain(ensemble_retriever)\n",
    "\n",
    "# Zero-shot chain (no retrieval)\n",
    "zero_shot_template = \"\"\"You are a helpful scientific assistant with expertise in machine learning, AI, and computer science research. Answer the following question based on your knowledge.\n",
    "\n",
    "Question: {question}\n",
    "Answer:\"\"\"\n",
    "\n",
    "ZERO_SHOT_PROMPT = PromptTemplate(\n",
    "    template=zero_shot_template,\n",
    "    input_variables=[\"question\"]\n",
    ")"
   ]
  },
  {
   "cell_type": "code",
   "execution_count": 12,
   "metadata": {},
   "outputs": [],
   "source": [
    "## 6. Run Experiments\n",
    "\n",
    "def evaluate_retrieval(retrieved_docs, ground_truth_paper_id):\n",
    "    \"\"\"Evaluate retrieval performance\"\"\"\n",
    "    # Extract paper IDs from chunks\n",
    "    retrieved_paper_ids = set()\n",
    "    for doc in retrieved_docs:\n",
    "        paper_id = doc.metadata.get('paper_id')\n",
    "        if paper_id:\n",
    "            retrieved_paper_ids.add(paper_id)\n",
    "    \n",
    "    # Convert to list for indexing\n",
    "    retrieved_paper_ids_list = list(retrieved_paper_ids)\n",
    "    \n",
    "    # Check if ground truth is in retrieved docs\n",
    "    if ground_truth_paper_id in retrieved_paper_ids_list:\n",
    "        rank = retrieved_paper_ids_list.index(ground_truth_paper_id)\n",
    "        mrr = 1.0 / (rank + 1)\n",
    "        found = True\n",
    "    else:\n",
    "        mrr = 0.0\n",
    "        found = False\n",
    "    \n",
    "    return {\n",
    "        \"found\": found,\n",
    "        \"mrr\": mrr,\n",
    "        \"retrieved_paper_ids\": retrieved_paper_ids_list\n",
    "    }"
   ]
  },
  {
   "cell_type": "code",
   "execution_count": null,
   "metadata": {},
   "outputs": [],
   "source": [
    "# Install the required package\n",
    "# pip install bert-score\n",
    "\n",
    "from bert_score import score as bert_score\n",
    "\n",
    "def evaluate_answer(generated, ground_truth):\n",
    "    \"\"\"Evaluate answer quality using both ROUGE and BERTScore with SCIBert\"\"\"\n",
    "    # ROUGE scores\n",
    "    rouge_scores = rouge_scorer_instance.score(ground_truth, generated)\n",
    "    \n",
    "    # BERTScore with SCIBert\n",
    "    P, R, F1 = bert_score(\n",
    "        [generated], \n",
    "        [ground_truth], \n",
    "        model_type=\"allenai/scibert_scivocab_uncased\",  # Use SCIBert\n",
    "        lang=\"en\",\n",
    "        batch_size=1\n",
    "    )\n",
    "    \n",
    "    return {\n",
    "        \"rouge1\": rouge_scores[\"rouge1\"].fmeasure,\n",
    "        \"rouge2\": rouge_scores[\"rouge2\"].fmeasure,\n",
    "        \"rougeL\": rouge_scores[\"rougeL\"].fmeasure,\n",
    "        \"bertscore_precision\": P.item(),\n",
    "        \"bertscore_recall\": R.item(),\n",
    "        \"bertscore_f1\": F1.item()\n",
    "    }"
   ]
  },
  {
   "cell_type": "code",
   "execution_count": 31,
   "metadata": {},
   "outputs": [],
   "source": [
    "def run_experiment(chain, question, ground_truth_info):\n",
    "    \"\"\"Run experiment with a specific chain\"\"\"\n",
    "    # Track token usage\n",
    "    with get_openai_callback() as cb:\n",
    "        result = chain({\"query\": question})\n",
    "    \n",
    "    # Extract answer and retrieved documents\n",
    "    answer = result.get(\"result\", \"\")\n",
    "    source_docs = result.get(\"source_documents\", [])\n",
    "    \n",
    "    # Evaluate retrieval if we have source documents\n",
    "    retrieval_metrics = {}\n",
    "    if source_docs:\n",
    "        retrieval_metrics = evaluate_retrieval(source_docs, ground_truth_info['paper_id'])\n",
    "    \n",
    "    # Evaluate answer\n",
    "    answer_metrics = evaluate_answer(answer, ground_truth_info['answer'])\n",
    "    \n",
    "    return {\n",
    "        \"answer\": answer,\n",
    "        \"retrieval_metrics\": retrieval_metrics,\n",
    "        \"answer_metrics\": answer_metrics,\n",
    "        \"token_usage\": {\n",
    "            \"prompt_tokens\": cb.prompt_tokens,\n",
    "            \"completion_tokens\": cb.completion_tokens,\n",
    "            \"total_tokens\": cb.total_tokens,\n",
    "            \"cost\": cb.total_cost\n",
    "        }\n",
    "    }"
   ]
  },
  {
   "cell_type": "code",
   "execution_count": 32,
   "metadata": {},
   "outputs": [],
   "source": [
    "def run_zero_shot(llm, question, ground_truth_info):\n",
    "    \"\"\"Run zero-shot experiment\"\"\"\n",
    "    # Track token usage\n",
    "    with get_openai_callback() as cb:\n",
    "        # Format the input properly for a ChatOpenAI model\n",
    "        formatted_prompt = ZERO_SHOT_PROMPT.format(question=question)\n",
    "        \n",
    "        # Use the predict method directly instead of generate\n",
    "        answer = llm.predict(formatted_prompt)\n",
    "    \n",
    "    # Evaluate answer\n",
    "    answer_metrics = evaluate_answer(answer, ground_truth_info['answer'])\n",
    "    \n",
    "    return {\n",
    "        \"answer\": answer,\n",
    "        \"answer_metrics\": answer_metrics,\n",
    "        \"token_usage\": {\n",
    "            \"prompt_tokens\": cb.prompt_tokens,\n",
    "            \"completion_tokens\": cb.completion_tokens,\n",
    "            \"total_tokens\": cb.total_tokens,\n",
    "            \"cost\": cb.total_cost\n",
    "        }\n",
    "    }"
   ]
  },
  {
   "cell_type": "code",
   "execution_count": 33,
   "metadata": {},
   "outputs": [],
   "source": [
    "## 7. Run All Baselines\n",
    "\n",
    "def run_all_baselines(dataset, num_samples=None):\n",
    "    \"\"\"Run all baseline methods\"\"\"\n",
    "    if num_samples:\n",
    "        samples = dataset[:num_samples]\n",
    "    else:\n",
    "        samples = dataset\n",
    "    \n",
    "    results = {\n",
    "        \"bm25\": [],\n",
    "        \"dense\": [],\n",
    "        \"ensemble\": [],\n",
    "        \"zero_shot\": [],\n",
    "        \"summary\": {}\n",
    "    }\n",
    "    \n",
    "    print(f\"Running baselines on {len(samples)} samples...\")\n",
    "    for i, sample in enumerate(tqdm(samples)):\n",
    "        question = sample.get('conceptual_question')\n",
    "        # Skip if question is missing\n",
    "        if not question:\n",
    "            continue\n",
    "            \n",
    "        # Get ground truth info\n",
    "        ground_truth_info = ground_truth_lookup.get(question, {})\n",
    "        if not ground_truth_info:\n",
    "            print(f\"Warning: No ground truth found for question: {question[:50]}...\")\n",
    "            continue\n",
    "        \n",
    "        print(f\"\\nProcessing question {i+1}/{len(samples)}: {question[:100]}...\")\n",
    "        \n",
    "        # Run BM25 experiment\n",
    "        print(\"Running BM25 + LLM...\")\n",
    "        bm25_result = run_experiment(bm25_chain, question, ground_truth_info)\n",
    "        results[\"bm25\"].append({\n",
    "            \"question\": question,\n",
    "            \"ground_truth\": ground_truth_info['answer'],\n",
    "            \"answer\": bm25_result[\"answer\"],\n",
    "            \"retrieval_metrics\": bm25_result[\"retrieval_metrics\"],\n",
    "            \"answer_metrics\": bm25_result[\"answer_metrics\"],\n",
    "            \"token_usage\": bm25_result[\"token_usage\"]\n",
    "        })\n",
    "        \n",
    "        # Run Dense experiment\n",
    "        print(\"Running Dense + LLM...\")\n",
    "        dense_result = run_experiment(dense_chain, question, ground_truth_info)\n",
    "        results[\"dense\"].append({\n",
    "            \"question\": question,\n",
    "            \"ground_truth\": ground_truth_info['answer'],\n",
    "            \"answer\": dense_result[\"answer\"],\n",
    "            \"retrieval_metrics\": dense_result[\"retrieval_metrics\"],\n",
    "            \"answer_metrics\": dense_result[\"answer_metrics\"],\n",
    "            \"token_usage\": dense_result[\"token_usage\"]\n",
    "        })\n",
    "        \n",
    "        # Run Ensemble experiment\n",
    "        print(\"Running Ensemble + LLM...\")\n",
    "        ensemble_result = run_experiment(ensemble_chain, question, ground_truth_info)\n",
    "        results[\"ensemble\"].append({\n",
    "            \"question\": question,\n",
    "            \"ground_truth\": ground_truth_info['answer'],\n",
    "            \"answer\": ensemble_result[\"answer\"],\n",
    "            \"retrieval_metrics\": ensemble_result[\"retrieval_metrics\"],\n",
    "            \"answer_metrics\": ensemble_result[\"answer_metrics\"],\n",
    "            \"token_usage\": ensemble_result[\"token_usage\"]\n",
    "        })\n",
    "        \n",
    "        # Run Zero-shot experiment\n",
    "        print(\"Running Zero-shot...\")\n",
    "        zero_shot_result = run_zero_shot(llm, question, ground_truth_info)\n",
    "        results[\"zero_shot\"].append({\n",
    "            \"question\": question,\n",
    "            \"ground_truth\": ground_truth_info['answer'],\n",
    "            \"answer\": zero_shot_result[\"answer\"],\n",
    "            \"answer_metrics\": zero_shot_result[\"answer_metrics\"],\n",
    "            \"token_usage\": zero_shot_result[\"token_usage\"]\n",
    "        })\n",
    "    \n",
    "    # Calculate summary metrics\n",
    "    calculate_summary_metrics(results)\n",
    "    \n",
    "    return results\n"
   ]
  },
  {
   "cell_type": "code",
   "execution_count": 34,
   "metadata": {},
   "outputs": [],
   "source": [
    "\n",
    "def calculate_summary_metrics(results):\n",
    "    \"\"\"Calculate summary metrics for all methods\"\"\"\n",
    "    methods = [\"bm25\", \"dense\", \"ensemble\", \"zero_shot\"]\n",
    "    summary = {}\n",
    "    \n",
    "    for method in methods:\n",
    "        method_results = results[method]\n",
    "        \n",
    "        # Skip if no results\n",
    "        if not method_results:\n",
    "            continue\n",
    "            \n",
    "        method_summary = {\n",
    "            \"answer_metrics\": {\n",
    "                \"rouge1\": 0.0,\n",
    "                \"rouge2\": 0.0,\n",
    "                \"rougeL\": 0.0\n",
    "            }\n",
    "        }\n",
    "        \n",
    "        # Add retrieval metrics for retrieval-based methods\n",
    "        if method != \"zero_shot\":\n",
    "            method_summary[\"retrieval_metrics\"] = {\n",
    "                \"found_rate\": 0.0,\n",
    "                \"mrr\": 0.0\n",
    "            }\n",
    "        \n",
    "        # Calculate answer metrics\n",
    "        for result in method_results:\n",
    "            for metric in method_summary[\"answer_metrics\"]:\n",
    "                method_summary[\"answer_metrics\"][metric] += result[\"answer_metrics\"][metric]\n",
    "        \n",
    "        # Calculate retrieval metrics\n",
    "        if method != \"zero_shot\":\n",
    "            for result in method_results:\n",
    "                method_summary[\"retrieval_metrics\"][\"found_rate\"] += 1 if result[\"retrieval_metrics\"].get(\"found\", False) else 0\n",
    "                method_summary[\"retrieval_metrics\"][\"mrr\"] += result[\"retrieval_metrics\"].get(\"mrr\", 0.0)\n",
    "        \n",
    "        # Calculate averages\n",
    "        n = len(method_results)\n",
    "        for metric in method_summary[\"answer_metrics\"]:\n",
    "            method_summary[\"answer_metrics\"][metric] /= n\n",
    "        \n",
    "        if method != \"zero_shot\":\n",
    "            for metric in method_summary[\"retrieval_metrics\"]:\n",
    "                method_summary[\"retrieval_metrics\"][metric] /= n\n",
    "        \n",
    "        summary[method] = method_summary\n",
    "    \n",
    "    results[\"summary\"] = summary\n",
    "    return summary\n"
   ]
  },
  {
   "cell_type": "code",
   "execution_count": 35,
   "metadata": {},
   "outputs": [
    {
     "name": "stdout",
     "output_type": "stream",
     "text": [
      "Running baselines on 50 samples...\n"
     ]
    },
    {
     "name": "stderr",
     "output_type": "stream",
     "text": [
      "  0%|          | 0/50 [00:00<?, ?it/s]"
     ]
    },
    {
     "name": "stdout",
     "output_type": "stream",
     "text": [
      "\n",
      "Processing question 1/50: \"How does the method of contrastive conditioning help in detecting over- and undertranslations in ne...\n",
      "Running BM25 + LLM...\n",
      "Running Dense + LLM...\n",
      "Running Ensemble + LLM...\n",
      "Running Zero-shot...\n"
     ]
    },
    {
     "name": "stderr",
     "output_type": "stream",
     "text": [
      "  2%|▏         | 1/50 [00:24<20:00, 24.50s/it]"
     ]
    },
    {
     "name": "stdout",
     "output_type": "stream",
     "text": [
      "\n",
      "Processing question 2/50: \"How does the CoFi method's approach to structured pruning compare to traditional distillation metho...\n",
      "Running BM25 + LLM...\n",
      "Running Dense + LLM...\n",
      "Running Ensemble + LLM...\n",
      "Running Zero-shot...\n"
     ]
    },
    {
     "name": "stderr",
     "output_type": "stream",
     "text": [
      "  4%|▍         | 2/50 [00:44<17:39, 22.07s/it]"
     ]
    },
    {
     "name": "stdout",
     "output_type": "stream",
     "text": [
      "\n",
      "Processing question 3/50: \"How does the ConvGQR model improve query reformulation in conversational search, and what are its k...\n",
      "Running BM25 + LLM...\n",
      "Running Dense + LLM...\n",
      "Running Ensemble + LLM...\n",
      "Running Zero-shot...\n"
     ]
    },
    {
     "name": "stderr",
     "output_type": "stream",
     "text": [
      "  6%|▌         | 3/50 [01:09<18:06, 23.13s/it]"
     ]
    },
    {
     "name": "stdout",
     "output_type": "stream",
     "text": [
      "\n",
      "Processing question 4/50: \"How does the proposed neural architecture for dialectal Arabic segmentation handle the unique chall...\n",
      "Running BM25 + LLM...\n",
      "Running Dense + LLM...\n",
      "Running Ensemble + LLM...\n",
      "Running Zero-shot...\n"
     ]
    },
    {
     "name": "stderr",
     "output_type": "stream",
     "text": [
      "  8%|▊         | 4/50 [01:24<15:28, 20.18s/it]"
     ]
    },
    {
     "name": "stdout",
     "output_type": "stream",
     "text": [
      "\n",
      "Processing question 5/50: \"How does the SALMON approach facilitate AI alignment with minimal human supervision, and how does i...\n",
      "Running BM25 + LLM...\n",
      "Running Dense + LLM...\n",
      "Running Ensemble + LLM...\n",
      "Running Zero-shot...\n"
     ]
    },
    {
     "name": "stderr",
     "output_type": "stream",
     "text": [
      " 10%|█         | 5/50 [01:45<15:09, 20.22s/it]"
     ]
    },
    {
     "name": "stdout",
     "output_type": "stream",
     "text": [
      "\n",
      "Processing question 6/50: \"What is the COVID-19-Stance dataset, and how does it contribute to research in stance detection reg...\n",
      "Running BM25 + LLM...\n",
      "Running Dense + LLM...\n",
      "Running Ensemble + LLM...\n",
      "Running Zero-shot...\n"
     ]
    },
    {
     "name": "stderr",
     "output_type": "stream",
     "text": [
      " 12%|█▏        | 6/50 [02:07<15:17, 20.84s/it]"
     ]
    },
    {
     "name": "stdout",
     "output_type": "stream",
     "text": [
      "\n",
      "Processing question 7/50: \"How does Pattern-Exploiting Training (PET) improve performance in few-shot text classification and ...\n",
      "Running BM25 + LLM...\n",
      "Running Dense + LLM...\n",
      "Running Ensemble + LLM...\n",
      "Running Zero-shot...\n"
     ]
    },
    {
     "name": "stderr",
     "output_type": "stream",
     "text": [
      " 14%|█▍        | 7/50 [02:29<15:13, 21.24s/it]"
     ]
    },
    {
     "name": "stdout",
     "output_type": "stream",
     "text": [
      "\n",
      "Processing question 8/50: \"What methodologies and evaluation metrics were employed in the Semantic Role Labeling subtask of Se...\n",
      "Running BM25 + LLM...\n",
      "Running Dense + LLM...\n",
      "Running Ensemble + LLM...\n",
      "Running Zero-shot...\n"
     ]
    },
    {
     "name": "stderr",
     "output_type": "stream",
     "text": [
      " 16%|█▌        | 8/50 [02:57<16:27, 23.51s/it]"
     ]
    },
    {
     "name": "stdout",
     "output_type": "stream",
     "text": [
      "\n",
      "Processing question 9/50: \"How does the ALIGNSCORE metric utilize a mean-max aggregation approach to evaluate factual consiste...\n",
      "Running BM25 + LLM...\n",
      "Running Dense + LLM...\n",
      "Running Ensemble + LLM...\n",
      "Running Zero-shot...\n"
     ]
    },
    {
     "name": "stderr",
     "output_type": "stream",
     "text": [
      " 18%|█▊        | 9/50 [03:21<16:13, 23.75s/it]"
     ]
    },
    {
     "name": "stdout",
     "output_type": "stream",
     "text": [
      "\n",
      "Processing question 10/50: \"What are the key findings of the paper 'Distill or Annotate? Cost-Efficient Fine-Tuning of Compact ...\n",
      "Running BM25 + LLM...\n",
      "Running Dense + LLM...\n",
      "Running Ensemble + LLM...\n",
      "Running Zero-shot...\n"
     ]
    },
    {
     "name": "stderr",
     "output_type": "stream",
     "text": [
      " 20%|██        | 10/50 [03:40<14:49, 22.23s/it]"
     ]
    },
    {
     "name": "stdout",
     "output_type": "stream",
     "text": [
      "\n",
      "Processing question 11/50: \"How does the Neural Path Hunter (NPH) method reduce hallucinations in dialogue systems using knowle...\n",
      "Running BM25 + LLM...\n",
      "Running Dense + LLM...\n",
      "Running Ensemble + LLM...\n",
      "Running Zero-shot...\n"
     ]
    },
    {
     "name": "stderr",
     "output_type": "stream",
     "text": [
      " 22%|██▏       | 11/50 [03:58<13:37, 20.97s/it]"
     ]
    },
    {
     "name": "stdout",
     "output_type": "stream",
     "text": [
      "\n",
      "Processing question 12/50: \"How does the MultiTACRED dataset enhance multilingual relation extraction, and what are the main ch...\n",
      "Running BM25 + LLM...\n",
      "Running Dense + LLM...\n",
      "Running Ensemble + LLM...\n",
      "Running Zero-shot...\n"
     ]
    },
    {
     "name": "stderr",
     "output_type": "stream",
     "text": [
      " 24%|██▍       | 12/50 [04:26<14:29, 22.88s/it]"
     ]
    },
    {
     "name": "stdout",
     "output_type": "stream",
     "text": [
      "\n",
      "Processing question 13/50: \"How does the Basis-Aware Threshold (BAT) sampling method proposed in the paper address the softmax ...\n",
      "Running BM25 + LLM...\n",
      "Running Dense + LLM...\n",
      "Running Ensemble + LLM...\n",
      "Running Zero-shot...\n"
     ]
    },
    {
     "name": "stderr",
     "output_type": "stream",
     "text": [
      " 26%|██▌       | 13/50 [04:44<13:12, 21.41s/it]"
     ]
    },
    {
     "name": "stdout",
     "output_type": "stream",
     "text": [
      "\n",
      "Processing question 14/50: \"What methods and datasets were used in the iSarcasmEval shared task for detecting intended sarcasm ...\n",
      "Running BM25 + LLM...\n",
      "Running Dense + LLM...\n",
      "Running Ensemble + LLM...\n",
      "Running Zero-shot...\n"
     ]
    },
    {
     "name": "stderr",
     "output_type": "stream",
     "text": [
      " 28%|██▊       | 14/50 [05:08<13:20, 22.24s/it]"
     ]
    },
    {
     "name": "stdout",
     "output_type": "stream",
     "text": [
      "\n",
      "Processing question 15/50: \"What are the unique features and challenges of the MAD-TSC dataset in performing target-dependent s...\n",
      "Running BM25 + LLM...\n",
      "Running Dense + LLM...\n",
      "Running Ensemble + LLM...\n",
      "Running Zero-shot...\n"
     ]
    },
    {
     "name": "stderr",
     "output_type": "stream",
     "text": [
      " 30%|███       | 15/50 [05:33<13:26, 23.05s/it]"
     ]
    },
    {
     "name": "stdout",
     "output_type": "stream",
     "text": [
      "\n",
      "Processing question 16/50: \"How do neurons in a two-layer ReLU network with small initialization achieve alignment during train...\n",
      "Running BM25 + LLM...\n",
      "Running Dense + LLM...\n",
      "Running Ensemble + LLM...\n",
      "Running Zero-shot...\n"
     ]
    },
    {
     "name": "stderr",
     "output_type": "stream",
     "text": [
      " 32%|███▏      | 16/50 [05:59<13:31, 23.87s/it]"
     ]
    },
    {
     "name": "stdout",
     "output_type": "stream",
     "text": [
      "\n",
      "Processing question 17/50: \"How does the CRONQUESTIONS dataset facilitate progress in Temporal Knowledge Graph Question Answeri...\n",
      "Running BM25 + LLM...\n",
      "Running Dense + LLM...\n",
      "Running Ensemble + LLM...\n",
      "Running Zero-shot...\n"
     ]
    },
    {
     "name": "stderr",
     "output_type": "stream",
     "text": [
      " 34%|███▍      | 17/50 [06:21<12:57, 23.55s/it]"
     ]
    },
    {
     "name": "stdout",
     "output_type": "stream",
     "text": [
      "\n",
      "Processing question 18/50: \"What are the key contributions of the XLM-R model in multilingual representation learning and how d...\n",
      "Running BM25 + LLM...\n",
      "Running Dense + LLM...\n",
      "Running Ensemble + LLM...\n",
      "Running Zero-shot...\n"
     ]
    },
    {
     "name": "stderr",
     "output_type": "stream",
     "text": [
      " 36%|███▌      | 18/50 [06:59<14:50, 27.83s/it]"
     ]
    },
    {
     "name": "stdout",
     "output_type": "stream",
     "text": [
      "\n",
      "Processing question 19/50: \"How does the CALOR corpus facilitate semantic frame parsing for information extraction, and what ar...\n",
      "Running BM25 + LLM...\n",
      "Running Dense + LLM...\n",
      "Running Ensemble + LLM...\n",
      "Running Zero-shot...\n"
     ]
    },
    {
     "name": "stderr",
     "output_type": "stream",
     "text": [
      " 38%|███▊      | 19/50 [07:23<13:45, 26.64s/it]"
     ]
    },
    {
     "name": "stdout",
     "output_type": "stream",
     "text": [
      "\n",
      "Processing question 20/50: \"How does the DGSlow method utilize multi-objective optimization to create effective adversarial att...\n",
      "Running BM25 + LLM...\n",
      "Running Dense + LLM...\n",
      "Running Ensemble + LLM...\n",
      "Running Zero-shot...\n"
     ]
    },
    {
     "name": "stderr",
     "output_type": "stream",
     "text": [
      " 40%|████      | 20/50 [07:45<12:34, 25.16s/it]"
     ]
    },
    {
     "name": "stdout",
     "output_type": "stream",
     "text": [
      "\n",
      "Processing question 21/50: \"How does the DCLR framework address the issues of false negatives and sampling bias in unsupervised...\n",
      "Running BM25 + LLM...\n",
      "Running Dense + LLM...\n",
      "Running Ensemble + LLM...\n",
      "Running Zero-shot...\n"
     ]
    },
    {
     "name": "stderr",
     "output_type": "stream",
     "text": [
      " 42%|████▏     | 21/50 [08:07<11:42, 24.24s/it]"
     ]
    },
    {
     "name": "stdout",
     "output_type": "stream",
     "text": [
      "\n",
      "Processing question 22/50: \"How does the scalability of pre-trained language models impact the efficacy of prompt tuning compar...\n",
      "Running BM25 + LLM...\n",
      "Running Dense + LLM...\n",
      "Running Ensemble + LLM...\n",
      "Running Zero-shot...\n"
     ]
    },
    {
     "name": "stderr",
     "output_type": "stream",
     "text": [
      " 44%|████▍     | 22/50 [08:36<12:02, 25.79s/it]"
     ]
    },
    {
     "name": "stdout",
     "output_type": "stream",
     "text": [
      "\n",
      "Processing question 23/50: \"How does the PAED model address the challenges of zero-shot persona attribute extraction in dialogu...\n",
      "Running BM25 + LLM...\n",
      "Running Dense + LLM...\n",
      "Running Ensemble + LLM...\n",
      "Running Zero-shot...\n"
     ]
    },
    {
     "name": "stderr",
     "output_type": "stream",
     "text": [
      " 46%|████▌     | 23/50 [09:07<12:17, 27.30s/it]"
     ]
    },
    {
     "name": "stdout",
     "output_type": "stream",
     "text": [
      "\n",
      "Processing question 24/50: \"How can gaze fixation patterns reveal a reader's native language when reading in English, and what ...\n",
      "Running BM25 + LLM...\n",
      "Running Dense + LLM...\n",
      "Running Ensemble + LLM...\n",
      "Running Zero-shot...\n"
     ]
    },
    {
     "name": "stderr",
     "output_type": "stream",
     "text": [
      " 48%|████▊     | 24/50 [09:27<10:51, 25.04s/it]"
     ]
    },
    {
     "name": "stdout",
     "output_type": "stream",
     "text": [
      "\n",
      "Processing question 25/50: \"How can the Universal Joy dataset be used to improve emotion classification across multiple languag...\n",
      "Running BM25 + LLM...\n",
      "Running Dense + LLM...\n",
      "Running Ensemble + LLM...\n",
      "Running Zero-shot...\n"
     ]
    },
    {
     "name": "stderr",
     "output_type": "stream",
     "text": [
      " 50%|█████     | 25/50 [09:51<10:18, 24.75s/it]"
     ]
    },
    {
     "name": "stdout",
     "output_type": "stream",
     "text": [
      "\n",
      "Processing question 26/50: \"How does the integration of concept co-occurrence graphs and pretrained language models facilitate ...\n",
      "Running BM25 + LLM...\n",
      "Running Dense + LLM...\n",
      "Running Ensemble + LLM...\n",
      "Running Zero-shot...\n"
     ]
    },
    {
     "name": "stderr",
     "output_type": "stream",
     "text": [
      " 52%|█████▏    | 26/50 [10:35<12:10, 30.44s/it]"
     ]
    },
    {
     "name": "stdout",
     "output_type": "stream",
     "text": [
      "\n",
      "Processing question 27/50: \"How does the QuestEval metric improve the evaluation of summarization accuracy and align with human...\n",
      "Running BM25 + LLM...\n",
      "Running Dense + LLM...\n",
      "Running Ensemble + LLM...\n",
      "Running Zero-shot...\n"
     ]
    },
    {
     "name": "stderr",
     "output_type": "stream",
     "text": [
      " 54%|█████▍    | 27/50 [10:59<10:59, 28.68s/it]"
     ]
    },
    {
     "name": "stdout",
     "output_type": "stream",
     "text": [
      "\n",
      "Processing question 28/50: \"How does linear decomposition help interpret Transformer models, particularly in identifying source...\n",
      "Running BM25 + LLM...\n",
      "Running Dense + LLM...\n",
      "Running Ensemble + LLM...\n",
      "Running Zero-shot...\n"
     ]
    },
    {
     "name": "stderr",
     "output_type": "stream",
     "text": [
      " 56%|█████▌    | 28/50 [11:24<10:07, 27.60s/it]"
     ]
    },
    {
     "name": "stdout",
     "output_type": "stream",
     "text": [
      "\n",
      "Processing question 29/50: \"How does LayoutMask improve text-layout interactions in multi-modal document pre-training, and what...\n",
      "Running BM25 + LLM...\n",
      "Running Dense + LLM...\n",
      "Running Ensemble + LLM...\n",
      "Running Zero-shot...\n"
     ]
    },
    {
     "name": "stderr",
     "output_type": "stream",
     "text": [
      " 58%|█████▊    | 29/50 [11:44<08:50, 25.25s/it]"
     ]
    },
    {
     "name": "stdout",
     "output_type": "stream",
     "text": [
      "\n",
      "Processing question 30/50: \"How does the KILT benchmark facilitate research on knowledge-intensive language tasks, and what are...\n",
      "Running BM25 + LLM...\n",
      "Running Dense + LLM...\n",
      "Running Ensemble + LLM...\n",
      "Running Zero-shot...\n"
     ]
    },
    {
     "name": "stderr",
     "output_type": "stream",
     "text": [
      " 60%|██████    | 30/50 [12:06<08:03, 24.16s/it]"
     ]
    },
    {
     "name": "stdout",
     "output_type": "stream",
     "text": [
      "\n",
      "Processing question 31/50: \"How do language models compare to humans in interpreting non-literal language phenomena such as iro...\n",
      "Running BM25 + LLM...\n",
      "Running Dense + LLM...\n",
      "Running Ensemble + LLM...\n",
      "Running Zero-shot...\n"
     ]
    },
    {
     "name": "stderr",
     "output_type": "stream",
     "text": [
      " 62%|██████▏   | 31/50 [12:43<08:56, 28.24s/it]"
     ]
    },
    {
     "name": "stdout",
     "output_type": "stream",
     "text": [
      "\n",
      "Processing question 32/50: \"How does the in-sample curriculum learning (ICL) strategy improve the performance of natural langua...\n",
      "Running BM25 + LLM...\n",
      "Running Dense + LLM...\n",
      "Running Ensemble + LLM...\n",
      "Running Zero-shot...\n"
     ]
    },
    {
     "name": "stderr",
     "output_type": "stream",
     "text": [
      " 64%|██████▍   | 32/50 [13:31<10:11, 34.00s/it]"
     ]
    },
    {
     "name": "stdout",
     "output_type": "stream",
     "text": [
      "\n",
      "Processing question 33/50: \"What are the main challenges and solutions proposed for improving annotation quality in cross-lingu...\n",
      "Running BM25 + LLM...\n",
      "Running Dense + LLM...\n",
      "Running Ensemble + LLM...\n",
      "Running Zero-shot...\n"
     ]
    },
    {
     "name": "stderr",
     "output_type": "stream",
     "text": [
      " 66%|██████▌   | 33/50 [13:58<09:04, 32.06s/it]"
     ]
    },
    {
     "name": "stdout",
     "output_type": "stream",
     "text": [
      "\n",
      "Processing question 34/50: \"How does the order of in-context examples affect the performance of language models, and what metho...\n",
      "Running BM25 + LLM...\n",
      "Running Dense + LLM...\n",
      "Running Ensemble + LLM...\n",
      "Running Zero-shot...\n"
     ]
    },
    {
     "name": "stderr",
     "output_type": "stream",
     "text": [
      " 68%|██████▊   | 34/50 [14:21<07:49, 29.32s/it]"
     ]
    },
    {
     "name": "stdout",
     "output_type": "stream",
     "text": [
      "\n",
      "Processing question 35/50: \"How does the multi-dialect neural machine translation model for Japanese improve translation accura...\n",
      "Running BM25 + LLM...\n",
      "Running Dense + LLM...\n",
      "Running Ensemble + LLM...\n",
      "Running Zero-shot...\n"
     ]
    },
    {
     "name": "stderr",
     "output_type": "stream",
     "text": [
      " 70%|███████   | 35/50 [14:49<07:11, 28.73s/it]"
     ]
    },
    {
     "name": "stdout",
     "output_type": "stream",
     "text": [
      "\n",
      "Processing question 36/50: \"How does incorporating distribution-balanced loss functions improve multi-label text classification...\n",
      "Running BM25 + LLM...\n",
      "Running Dense + LLM...\n",
      "Running Ensemble + LLM...\n",
      "Running Zero-shot...\n"
     ]
    },
    {
     "name": "stderr",
     "output_type": "stream",
     "text": [
      " 72%|███████▏  | 36/50 [15:24<07:10, 30.74s/it]"
     ]
    },
    {
     "name": "stdout",
     "output_type": "stream",
     "text": [
      "\n",
      "Processing question 37/50: \"How does the classifier-based parser described in the paper handle the transformation and detransfo...\n",
      "Running BM25 + LLM...\n",
      "Running Dense + LLM...\n",
      "Running Ensemble + LLM...\n",
      "Running Zero-shot...\n"
     ]
    },
    {
     "name": "stderr",
     "output_type": "stream",
     "text": [
      " 74%|███████▍  | 37/50 [15:49<06:17, 29.01s/it]"
     ]
    },
    {
     "name": "stdout",
     "output_type": "stream",
     "text": [
      "\n",
      "Processing question 38/50: \"What challenges do large language models face in being evaluated accurately for open-domain questio...\n",
      "Running BM25 + LLM...\n",
      "Running Dense + LLM...\n",
      "Running Ensemble + LLM...\n",
      "Running Zero-shot...\n"
     ]
    },
    {
     "name": "stderr",
     "output_type": "stream",
     "text": [
      " 76%|███████▌  | 38/50 [16:21<05:59, 29.95s/it]"
     ]
    },
    {
     "name": "stdout",
     "output_type": "stream",
     "text": [
      "\n",
      "Processing question 39/50: \"How does the ULTRA approach enable zero-shot and fine-tuned knowledge graph reasoning with unseen e...\n",
      "Running BM25 + LLM...\n",
      "Running Dense + LLM...\n",
      "Running Ensemble + LLM...\n",
      "Running Zero-shot...\n"
     ]
    },
    {
     "name": "stderr",
     "output_type": "stream",
     "text": [
      " 78%|███████▊  | 39/50 [16:48<05:19, 29.08s/it]"
     ]
    },
    {
     "name": "stdout",
     "output_type": "stream",
     "text": [
      "\n",
      "Processing question 40/50: \"How do factual and contextual error types differ in language models when generating descriptions fo...\n",
      "Running BM25 + LLM...\n",
      "Running Dense + LLM...\n",
      "Running Ensemble + LLM...\n",
      "Running Zero-shot...\n"
     ]
    },
    {
     "name": "stderr",
     "output_type": "stream",
     "text": [
      " 80%|████████  | 40/50 [17:12<04:35, 27.59s/it]"
     ]
    },
    {
     "name": "stdout",
     "output_type": "stream",
     "text": [
      "\n",
      "Processing question 41/50: \"How does the SDP-LSTM model utilize shortest dependency paths and LSTM networks to improve relation...\n",
      "Running BM25 + LLM...\n",
      "Running Dense + LLM...\n",
      "Running Ensemble + LLM...\n",
      "Running Zero-shot...\n"
     ]
    },
    {
     "name": "stderr",
     "output_type": "stream",
     "text": [
      " 82%|████████▏ | 41/50 [18:09<05:26, 36.22s/it]"
     ]
    },
    {
     "name": "stdout",
     "output_type": "stream",
     "text": [
      "\n",
      "Processing question 42/50: \"How does the Geometric Transform Attention (GTA) mechanism improve the handling of positional encod...\n",
      "Running BM25 + LLM...\n",
      "Running Dense + LLM...\n",
      "Running Ensemble + LLM...\n",
      "Running Zero-shot...\n"
     ]
    },
    {
     "name": "stderr",
     "output_type": "stream",
     "text": [
      " 84%|████████▍ | 42/50 [19:07<05:41, 42.71s/it]"
     ]
    },
    {
     "name": "stdout",
     "output_type": "stream",
     "text": [
      "\n",
      "Processing question 43/50: \"What are the main challenges faced by open-domain question answering models when dealing with quest...\n",
      "Running BM25 + LLM...\n",
      "Running Dense + LLM...\n",
      "Running Ensemble + LLM...\n",
      "Running Zero-shot...\n"
     ]
    },
    {
     "name": "stderr",
     "output_type": "stream",
     "text": [
      " 86%|████████▌ | 43/50 [19:32<04:23, 37.58s/it]"
     ]
    },
    {
     "name": "stdout",
     "output_type": "stream",
     "text": [
      "\n",
      "Processing question 44/50: \"What is the Target-Stance Extraction (TSE) task proposed in stance detection, and how does it diffe...\n",
      "Running BM25 + LLM...\n",
      "Running Dense + LLM...\n",
      "Running Ensemble + LLM...\n",
      "Running Zero-shot...\n"
     ]
    },
    {
     "name": "stderr",
     "output_type": "stream",
     "text": [
      " 88%|████████▊ | 44/50 [19:55<03:19, 33.18s/it]"
     ]
    },
    {
     "name": "stdout",
     "output_type": "stream",
     "text": [
      "\n",
      "Processing question 45/50: \"How does the human-in-the-loop evaluation framework enhance the detection of novel misinformation c...\n",
      "Running BM25 + LLM...\n",
      "Running Dense + LLM...\n",
      "Running Ensemble + LLM...\n",
      "Running Zero-shot...\n"
     ]
    },
    {
     "name": "stderr",
     "output_type": "stream",
     "text": [
      " 90%|█████████ | 45/50 [20:22<02:36, 31.31s/it]"
     ]
    },
    {
     "name": "stdout",
     "output_type": "stream",
     "text": [
      "\n",
      "Processing question 46/50: \"How does the mT5 model achieve state-of-the-art performance in multilingual NLP tasks, and what are...\n",
      "Running BM25 + LLM...\n",
      "Running Dense + LLM...\n",
      "Running Ensemble + LLM...\n",
      "Running Zero-shot...\n"
     ]
    },
    {
     "name": "stderr",
     "output_type": "stream",
     "text": [
      " 92%|█████████▏| 46/50 [20:55<02:06, 31.71s/it]"
     ]
    },
    {
     "name": "stdout",
     "output_type": "stream",
     "text": [
      "\n",
      "Processing question 47/50: \"How does the unified segmentation model for Arabic dialects discussed in 'Learning from Relatives: ...\n",
      "Running BM25 + LLM...\n",
      "Running Dense + LLM...\n",
      "Running Ensemble + LLM...\n",
      "Running Zero-shot...\n"
     ]
    },
    {
     "name": "stderr",
     "output_type": "stream",
     "text": [
      " 94%|█████████▍| 47/50 [21:19<01:28, 29.63s/it]"
     ]
    },
    {
     "name": "stdout",
     "output_type": "stream",
     "text": [
      "\n",
      "Processing question 48/50: \"How does the multi-task based approach to annotator disagreement, as explored in the paper 'Dealing...\n",
      "Running BM25 + LLM...\n",
      "Running Dense + LLM...\n",
      "Running Ensemble + LLM...\n",
      "Running Zero-shot...\n"
     ]
    },
    {
     "name": "stderr",
     "output_type": "stream",
     "text": [
      " 96%|█████████▌| 48/50 [21:47<00:57, 28.85s/it]"
     ]
    },
    {
     "name": "stdout",
     "output_type": "stream",
     "text": [
      "\n",
      "Processing question 49/50: \"How does instruction tuning affect the scalability and performance of Mixture-of-Experts models com...\n",
      "Running BM25 + LLM...\n",
      "Running Dense + LLM...\n",
      "Running Ensemble + LLM...\n",
      "Running Zero-shot...\n"
     ]
    },
    {
     "name": "stderr",
     "output_type": "stream",
     "text": [
      " 98%|█████████▊| 49/50 [22:11<00:27, 27.48s/it]"
     ]
    },
    {
     "name": "stdout",
     "output_type": "stream",
     "text": [
      "\n",
      "Processing question 50/50: \"How does the PuMer framework improve inference speed and memory efficiency in large-scale Vision La...\n",
      "Running BM25 + LLM...\n",
      "Running Dense + LLM...\n",
      "Running Ensemble + LLM...\n",
      "Running Zero-shot...\n"
     ]
    },
    {
     "name": "stderr",
     "output_type": "stream",
     "text": [
      "100%|██████████| 50/50 [22:32<00:00, 27.05s/it]"
     ]
    },
    {
     "name": "stdout",
     "output_type": "stream",
     "text": [
      "\n",
      "Results Summary:\n",
      "===============\n",
      "\n",
      "BM25:\n",
      "  Retrieval Success Rate: 0.9800\n",
      "  MRR: 0.9367\n",
      "  ROUGE-1: 0.4489\n",
      "  ROUGE-2: 0.1865\n",
      "  ROUGE-L: 0.2547\n",
      "\n",
      "DENSE:\n",
      "  Retrieval Success Rate: 1.0000\n",
      "  MRR: 0.9600\n",
      "  ROUGE-1: 0.4166\n",
      "  ROUGE-2: 0.1703\n",
      "  ROUGE-L: 0.2345\n",
      "\n",
      "ENSEMBLE:\n",
      "  Retrieval Success Rate: 1.0000\n",
      "  MRR: 0.9133\n",
      "  ROUGE-1: 0.4841\n",
      "  ROUGE-2: 0.2012\n",
      "  ROUGE-L: 0.2695\n",
      "\n",
      "ZERO_SHOT:\n",
      "  ROUGE-1: 0.4814\n",
      "  ROUGE-2: 0.1398\n",
      "  ROUGE-L: 0.2169\n"
     ]
    },
    {
     "name": "stderr",
     "output_type": "stream",
     "text": [
      "\n"
     ]
    }
   ],
   "source": [
    "# Run all baselines with a small sample first (adjust as needed)\n",
    "num_samples = 50  # Start small for testing\n",
    "results = run_all_baselines(user_dataset, num_samples=num_samples)\n",
    "\n",
    "## 8. Analyze Results\n",
    "\n",
    "def print_summary(results):\n",
    "    \"\"\"Print summary of results\"\"\"\n",
    "    summary = results[\"summary\"]\n",
    "    \n",
    "    print(\"\\nResults Summary:\")\n",
    "    print(\"===============\")\n",
    "    \n",
    "    methods = [\"bm25\", \"dense\", \"ensemble\", \"zero_shot\"]\n",
    "    for method in methods:\n",
    "        if method not in summary:\n",
    "            continue\n",
    "            \n",
    "        method_summary = summary[method]\n",
    "        print(f\"\\n{method.upper()}:\")\n",
    "        \n",
    "        # Print retrieval metrics\n",
    "        if \"retrieval_metrics\" in method_summary:\n",
    "            print(f\"  Retrieval Success Rate: {method_summary['retrieval_metrics']['found_rate']:.4f}\")\n",
    "            print(f\"  MRR: {method_summary['retrieval_metrics']['mrr']:.4f}\")\n",
    "        \n",
    "        # Print answer metrics\n",
    "        print(f\"  ROUGE-1: {method_summary['answer_metrics']['rouge1']:.4f}\")\n",
    "        print(f\"  ROUGE-2: {method_summary['answer_metrics']['rouge2']:.4f}\")\n",
    "        print(f\"  ROUGE-L: {method_summary['answer_metrics']['rougeL']:.4f}\")\n",
    "\n",
    "# Print summary\n",
    "print_summary(results) \n"
   ]
  },
  {
   "cell_type": "code",
   "execution_count": 21,
   "metadata": {},
   "outputs": [
    {
     "data": {
      "image/png": "[encoded data removed]",
      "text/plain": [
       "<Figure size 1400x600 with 2 Axes>"
      ]
     },
     "metadata": {},
     "output_type": "display_data"
    }
   ],
   "source": [
    "## 9. Visualize Results\n",
    "\n",
    "def plot_results(results):\n",
    "    \"\"\"Plot comparison of different methods\"\"\"\n",
    "    summary = results[\"summary\"]\n",
    "    methods = [\"bm25\", \"dense\", \"ensemble\", \"zero_shot\"]\n",
    "    \n",
    "    # Filter methods that have results\n",
    "    methods = [method for method in methods if method in summary]\n",
    "    \n",
    "    # Get ROUGE-L scores\n",
    "    rouge_l_scores = [summary[method][\"answer_metrics\"][\"rougeL\"] for method in methods]\n",
    "    \n",
    "    # Get retrieval success rates\n",
    "    retrieval_rates = []\n",
    "    for method in methods:\n",
    "        if \"retrieval_metrics\" in summary[method]:\n",
    "            retrieval_rates.append(summary[method][\"retrieval_metrics\"][\"found_rate\"])\n",
    "        else:\n",
    "            retrieval_rates.append(0)  # Zero-shot has no retrieval\n",
    "    \n",
    "    # Plot\n",
    "    fig, (ax1, ax2) = plt.subplots(1, 2, figsize=(14, 6))\n",
    "    \n",
    "    # Plot ROUGE-L scores\n",
    "    ax1.bar(methods, rouge_l_scores)\n",
    "    ax1.set_title('ROUGE-L Score by Method')\n",
    "    ax1.set_ylabel('ROUGE-L Score')\n",
    "    ax1.set_ylim(0, 1)\n",
    "    \n",
    "    # Plot retrieval success rates\n",
    "    ax2.bar(methods, retrieval_rates)\n",
    "    ax2.set_title('Retrieval Success Rate by Method')\n",
    "    ax2.set_ylabel('Success Rate')\n",
    "    ax2.set_ylim(0, 1)\n",
    "    \n",
    "    plt.tight_layout()\n",
    "    plt.show()\n",
    "\n",
    "# Plot results\n",
    "plot_results(results)"
   ]
  },
  {
   "cell_type": "code",
   "execution_count": 22,
   "metadata": {},
   "outputs": [
    {
     "name": "stdout",
     "output_type": "stream",
     "text": [
      "Results saved to langchain_rag_results.json\n"
     ]
    }
   ],
   "source": [
    "## 10. Save Results\n",
    "\n",
    "def save_results(results, output_file=\"langchain_rag_results.json\"):\n",
    "    \"\"\"Save results to JSON file\"\"\"\n",
    "    # Convert numpy values to Python types for JSON serialization\n",
    "    def convert_for_json(obj):\n",
    "        if isinstance(obj, np.float32) or isinstance(obj, np.float64):\n",
    "            return float(obj)\n",
    "        elif isinstance(obj, np.int32) or isinstance(obj, np.int64):\n",
    "            return int(obj)\n",
    "        elif isinstance(obj, list):\n",
    "            return [convert_for_json(item) for item in obj]\n",
    "        elif isinstance(obj, dict):\n",
    "            return {key: convert_for_json(value) for key, value in obj.items()}\n",
    "        else:\n",
    "            return obj\n",
    "    \n",
    "    converted_results = convert_for_json(results)\n",
    "    \n",
    "    with open(output_file, 'w') as f:\n",
    "        json.dump(converted_results, f, indent=2)\n",
    "    \n",
    "    print(f\"Results saved to {output_file}\")\n",
    "\n",
    "# Save results\n",
    "save_results(results)"
   ]
  },
  {
   "cell_type": "code",
   "execution_count": null,
   "metadata": {},
   "outputs": [],
   "source": []
  }
 ],
 "metadata": {
  "kernelspec": {
   "display_name": "litsearch_env",
   "language": "python",
   "name": "python3"
  },
  "language_info": {
   "codemirror_mode": {
    "name": "ipython",
    "version": 3
   },
   "file_extension": ".py",
   "mimetype": "text/x-python",
   "name": "python",
   "nbconvert_exporter": "python",
   "pygments_lexer": "ipython3",
   "version": "3.10.16"
  }
 },
 "nbformat": 4,
 "nbformat_minor": 2
}
